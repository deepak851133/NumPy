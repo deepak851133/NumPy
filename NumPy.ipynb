{
 "cells": [
  {
   "cell_type": "code",
   "execution_count": 7,
   "id": "33f1f03d-9868-41d7-9241-a83811d584dd",
   "metadata": {},
   "outputs": [],
   "source": [
    "import numpy as np\n"
   ]
  },
  {
   "cell_type": "code",
   "execution_count": 21,
   "id": "7d9b57bc-a246-44df-880b-d29c53e79792",
   "metadata": {},
   "outputs": [
    {
     "name": "stdout",
     "output_type": "stream",
     "text": [
      "[1 2 3 4 5]\n",
      "<class 'numpy.ndarray'>\n",
      "1\n"
     ]
    }
   ],
   "source": [
    "a=np.array([1,2,3,4,5])\n",
    "print(a)\n",
    "print(type(a))\n",
    "print(a.ndim)"
   ]
  },
  {
   "cell_type": "code",
   "execution_count": 19,
   "id": "29b9e5a2-d424-40c0-9fe9-103c3c72ab25",
   "metadata": {},
   "outputs": [
    {
     "name": "stdout",
     "output_type": "stream",
     "text": [
      "[1, 2, 3, 4, 5]\n",
      "<class 'list'>\n"
     ]
    }
   ],
   "source": [
    "x=[1,2,3,4,5]\n",
    "print(x)\n",
    "print(type(x))\n"
   ]
  },
  {
   "cell_type": "code",
   "execution_count": 15,
   "id": "f97fc3ba-011c-4025-84c7-71296a3cd89f",
   "metadata": {},
   "outputs": [
    {
     "name": "stdin",
     "output_type": "stream",
     "text": [
      "Enter the number in array 6\n",
      "Enter the number in array 6\n",
      "Enter the number in array 2\n",
      "Enter the number in array 3\n"
     ]
    },
    {
     "name": "stdout",
     "output_type": "stream",
     "text": [
      "3\n"
     ]
    }
   ],
   "source": [
    "l=[]\n",
    "for i in range(1,5):\n",
    "    int_l=int(input(\"Enter the number in array\"))\n",
    "    l.append(int_l)\n",
    "print(int_l)    "
   ]
  },
  {
   "cell_type": "code",
   "execution_count": null,
   "id": "70ff92cf-2279-4bd3-a7a3-3b2b6c46d053",
   "metadata": {},
   "outputs": [],
   "source": [
    "#Dimensions in Array\n",
    "#1-D Array\n",
    "#2-D Array\n",
    "#3-D Array\n",
    "# Higher Dimensional Array\n",
    "\n",
    "\n"
   ]
  },
  {
   "cell_type": "code",
   "execution_count": 27,
   "id": "a58293c2-3a3a-4858-8d89-d7a5bd2b55ab",
   "metadata": {},
   "outputs": [
    {
     "name": "stdout",
     "output_type": "stream",
     "text": [
      "[[1 2 3 4 5]\n",
      " [1 2 3 4 5]]\n",
      "2\n"
     ]
    }
   ],
   "source": [
    "ar2=np.array([[1,2,3,4,5],[1,2,3,4,5]])\n",
    "print(ar2)\n",
    "print(ar2.ndim)"
   ]
  },
  {
   "cell_type": "code",
   "execution_count": null,
   "id": "66c4ecf4-1e13-4bef-98ed-ce9db8f7118b",
   "metadata": {},
   "outputs": [],
   "source": [
    "ar3=np.array([[[1,2,3,4,5],[1,2,3,4,5],[1,2,3,4,5]]])\n",
    "print(ar3)\n",
    "print(ar3.ndim)"
   ]
  },
  {
   "cell_type": "code",
   "execution_count": 39,
   "id": "05cb53b8-c944-41f2-9bd2-3af26868e26a",
   "metadata": {},
   "outputs": [
    {
     "name": "stdout",
     "output_type": "stream",
     "text": [
      "[[[[[[[[[[1 2 3 4 5]]]]]]]]]]\n",
      "10\n"
     ]
    }
   ],
   "source": [
    "arn=np.array([1,2,3,4,5],ndmin=10)\n",
    "print(arn)\n",
    "print(arn.ndim)"
   ]
  },
  {
   "cell_type": "code",
   "execution_count": null,
   "id": "08b08cf4-06ab-4fd0-ad64-af167bb10ed7",
   "metadata": {},
   "outputs": [],
   "source": [
    "#Array filled with 0's\n",
    "#Array filled with 1's\n",
    "#Create an empty array\n",
    "#An array with a range of elements\n",
    "#Array diagonal element filled with 1's\n",
    "#Create an array with values that are spaced linearly in a specified interval"
   ]
  },
  {
   "cell_type": "code",
   "execution_count": 15,
   "id": "6b38f2f3-18c6-4ff8-a2ce-097200feb470",
   "metadata": {},
   "outputs": [
    {
     "name": "stdout",
     "output_type": "stream",
     "text": [
      "[0. 0. 0. 0.]\n",
      "[[0. 0. 0. 0.]\n",
      " [0. 0. 0. 0.]\n",
      " [0. 0. 0. 0.]]\n"
     ]
    }
   ],
   "source": [
    "ar_zero=np.zeros(4)\n",
    "ar_zero1=np.zeros((3,4))\n",
    "print(ar_zero)\n",
    "\n",
    "print(ar_zero1)"
   ]
  },
  {
   "cell_type": "code",
   "execution_count": 21,
   "id": "34a1d7a2-c96c-46d9-8646-3a84bacd9463",
   "metadata": {},
   "outputs": [
    {
     "name": "stdout",
     "output_type": "stream",
     "text": [
      "[1. 1. 1. 1.]\n",
      "[[1. 1. 1. 1.]\n",
      " [1. 1. 1. 1.]\n",
      " [1. 1. 1. 1.]]\n"
     ]
    }
   ],
   "source": [
    "ar_one=np.ones(4)\n",
    "ar_one1= np.ones((3,4))\n",
    "print(ar_one)\n",
    "\n",
    "print(ar_one1)"
   ]
  },
  {
   "cell_type": "code",
   "execution_count": 57,
   "id": "4344d71f-56bd-4d1d-a447-985082d89391",
   "metadata": {},
   "outputs": [
    {
     "name": "stdout",
     "output_type": "stream",
     "text": [
      "[ 5. 10. 15. 20.]\n"
     ]
    }
   ],
   "source": [
    "ar_em=np.empty(4)\n",
    "print(ar_em)"
   ]
  },
  {
   "cell_type": "code",
   "execution_count": 41,
   "id": "d9354e36-b20f-46f4-9463-d5c513461df8",
   "metadata": {},
   "outputs": [
    {
     "name": "stdout",
     "output_type": "stream",
     "text": [
      "[ 0  1  2  3  4  5  6  7  8  9 10]\n"
     ]
    }
   ],
   "source": [
    "ar_rn=np.arange(11)\n",
    "print(ar_rn)"
   ]
  },
  {
   "cell_type": "code",
   "execution_count": 45,
   "id": "085c6a95-1dad-4992-b71c-46187f7fed13",
   "metadata": {},
   "outputs": [
    {
     "name": "stdout",
     "output_type": "stream",
     "text": [
      "[[1. 0. 0. 0.]\n",
      " [0. 1. 0. 0.]\n",
      " [0. 0. 1. 0.]\n",
      " [0. 0. 0. 1.]]\n"
     ]
    }
   ],
   "source": [
    "ar_dia=np.eye(4)\n",
    "print(ar_dia)"
   ]
  },
  {
   "cell_type": "code",
   "execution_count": 47,
   "id": "d88fb701-9ce9-4701-b4aa-c34f50a87e3b",
   "metadata": {},
   "outputs": [
    {
     "name": "stdout",
     "output_type": "stream",
     "text": [
      "[[1. 0. 0. 0. 0. 0.]\n",
      " [0. 1. 0. 0. 0. 0.]\n",
      " [0. 0. 1. 0. 0. 0.]\n",
      " [0. 0. 0. 1. 0. 0.]]\n"
     ]
    }
   ],
   "source": [
    "ar_dia=np.eye(4,6)\n",
    "print(ar_dia)"
   ]
  },
  {
   "cell_type": "code",
   "execution_count": 55,
   "id": "8d1abeac-d2e1-44bd-8b43-afa0f6dc8209",
   "metadata": {},
   "outputs": [
    {
     "name": "stdout",
     "output_type": "stream",
     "text": [
      "[ 0.  5. 10. 15. 20.]\n"
     ]
    }
   ],
   "source": [
    "ar_lin =np.linspace(0,20,num=5)\n",
    "print(ar_lin)                     "
   ]
  },
  {
   "cell_type": "code",
   "execution_count": null,
   "id": "093b9f3c-59a7-4d38-bf07-c604d2c21f1c",
   "metadata": {},
   "outputs": [],
   "source": [
    "#Create NumPy Arrays with Random Numbers [rand(),randn(),ranf(),randint()]"
   ]
  },
  {
   "cell_type": "code",
   "execution_count": 59,
   "id": "ac0d1b78-9e81-4514-8041-31022b974a9e",
   "metadata": {},
   "outputs": [
    {
     "name": "stdout",
     "output_type": "stream",
     "text": [
      "[0.37629206 0.19518587 0.96955035 0.56099829]\n"
     ]
    }
   ],
   "source": [
    "var = np.random.rand(4)\n",
    "print(var)"
   ]
  },
  {
   "cell_type": "code",
   "execution_count": 61,
   "id": "20b7dc74-e568-446c-b3eb-cbecce99d0eb",
   "metadata": {},
   "outputs": [
    {
     "name": "stdout",
     "output_type": "stream",
     "text": [
      "[[0.86225323 0.38926511 0.94271162 0.82003985 0.55464352]\n",
      " [0.15156632 0.13581261 0.95087844 0.03831363 0.96357184]]\n"
     ]
    }
   ],
   "source": [
    "var1=np.random.rand(2,5)\n",
    "print(var1)"
   ]
  },
  {
   "cell_type": "code",
   "execution_count": 63,
   "id": "0c0cb043-dc88-42cc-9854-2887e69e5bd8",
   "metadata": {},
   "outputs": [
    {
     "name": "stdout",
     "output_type": "stream",
     "text": [
      "[-0.2595251  -0.35756315  0.42690702  1.56943576  0.20525143]\n"
     ]
    }
   ],
   "source": [
    "var2=np.random.randn(5)\n",
    "print(var2)"
   ]
  },
  {
   "cell_type": "code",
   "execution_count": 67,
   "id": "f34b28b5-6c24-48a1-ac1e-72eebf062233",
   "metadata": {},
   "outputs": [
    {
     "name": "stdout",
     "output_type": "stream",
     "text": [
      "[0.74293015 0.40740087 0.48020182 0.29448192]\n"
     ]
    }
   ],
   "source": [
    "var3=np.random.ranf(4)\n",
    "print(var3)"
   ]
  },
  {
   "cell_type": "code",
   "execution_count": 73,
   "id": "a3b2f0c9-09ff-4b85-a3b3-86efc38134ad",
   "metadata": {},
   "outputs": [
    {
     "name": "stdout",
     "output_type": "stream",
     "text": [
      "[ 9 11 19 17  7]\n"
     ]
    }
   ],
   "source": [
    "var4=np.random.randint(5,20,5)\n",
    "print(var4)"
   ]
  },
  {
   "cell_type": "code",
   "execution_count": null,
   "id": "61fec2c3-d84c-4f3b-b35d-9f423ce6b562",
   "metadata": {},
   "outputs": [],
   "source": [
    "#Data Types in NumPy Arrays\n",
    "#bool(True or False)"
   ]
  },
  {
   "cell_type": "code",
   "execution_count": 85,
   "id": "e6401ce5-6657-4c1b-8dca-38f30cd7b686",
   "metadata": {},
   "outputs": [
    {
     "name": "stdout",
     "output_type": "stream",
     "text": [
      "Data Type:  int64\n"
     ]
    }
   ],
   "source": [
    "var=np.array([2,3,5])\n",
    "print(\"Data Type: \",var.dtype)"
   ]
  },
  {
   "cell_type": "code",
   "execution_count": 87,
   "id": "c59aa906-332b-4e25-b6e6-a5b9f38d5419",
   "metadata": {},
   "outputs": [
    {
     "name": "stdout",
     "output_type": "stream",
     "text": [
      "Data Type:  float64\n"
     ]
    }
   ],
   "source": [
    "var=np.array([2.4,3.9,5.3])\n",
    "print(\"Data Type: \",var.dtype)"
   ]
  },
  {
   "cell_type": "code",
   "execution_count": 91,
   "id": "87d1a16c-6701-4245-a97c-1ff9796940cb",
   "metadata": {},
   "outputs": [
    {
     "name": "stdout",
     "output_type": "stream",
     "text": [
      "Data Type:  <U21\n"
     ]
    }
   ],
   "source": [
    "var=np.array([\"A\",\"B\",\"C\",1,2,3,4,5])\n",
    "print(\"Data Type: \",var.dtype)"
   ]
  },
  {
   "cell_type": "code",
   "execution_count": 95,
   "id": "92c0c574-1ceb-480c-8ddf-1d09ba17242b",
   "metadata": {},
   "outputs": [
    {
     "name": "stdout",
     "output_type": "stream",
     "text": [
      "Data Type:  int32\n"
     ]
    }
   ],
   "source": [
    "var=np.array([2,3,5],dtype=np.int32)\n",
    "print(\"Data Type: \",var.dtype)"
   ]
  },
  {
   "cell_type": "code",
   "execution_count": 99,
   "id": "32b7c1f0-46b9-4335-bf0e-77e682f49ed4",
   "metadata": {},
   "outputs": [
    {
     "name": "stdout",
     "output_type": "stream",
     "text": [
      "Data Type:  float32\n"
     ]
    }
   ],
   "source": [
    "var=np.array([2,3,5],dtype= \"f\")\n",
    "print(\"Data Type: \",var.dtype)"
   ]
  },
  {
   "cell_type": "code",
   "execution_count": 107,
   "id": "eddc76c1-0095-4429-813b-c1d0f368e915",
   "metadata": {},
   "outputs": [
    {
     "name": "stdout",
     "output_type": "stream",
     "text": [
      "Data Type:  int64\n",
      "Data Type:  float32\n",
      "[2 3 5]\n",
      "[2. 3. 5.]\n"
     ]
    }
   ],
   "source": [
    "var2=np.array([2,3,5])\n",
    "new=np.float32(var2)\n",
    "\n",
    "print(\"Data Type: \",var2.dtype)\n",
    "print(\"Data Type: \",new.dtype)\n",
    "\n",
    "print(var2)\n",
    "print(new)"
   ]
  },
  {
   "cell_type": "code",
   "execution_count": 109,
   "id": "ece57649-1839-45cd-a2f6-abb33fc0fb42",
   "metadata": {},
   "outputs": [
    {
     "name": "stdout",
     "output_type": "stream",
     "text": [
      "[2 3 5]\n"
     ]
    }
   ],
   "source": [
    "var=np.array([2,3,5])\n",
    "new_1 = var.astype(float)\n",
    "print(var)"
   ]
  },
  {
   "cell_type": "code",
   "execution_count": null,
   "id": "cc70d903-3f6f-4e6f-81d8-3bb9d1b042fe",
   "metadata": {},
   "outputs": [],
   "source": [
    "#Shape & Reshaping in NumPy Arrays "
   ]
  },
  {
   "cell_type": "code",
   "execution_count": 113,
   "id": "02758430-2f15-47fd-8dab-a2d99db6c676",
   "metadata": {},
   "outputs": [
    {
     "name": "stdout",
     "output_type": "stream",
     "text": [
      "[[1 2 3]\n",
      " [1 2 4]]\n",
      "\n",
      "(2, 3)\n"
     ]
    }
   ],
   "source": [
    "var=np.array([[1,2,3],[1,2,4]])\n",
    "print(var)\n",
    "print()\n",
    "print(var.shape)"
   ]
  },
  {
   "cell_type": "code",
   "execution_count": 121,
   "id": "7b8dcfc1-5e49-4785-9b07-15c5b19a3464",
   "metadata": {},
   "outputs": [
    {
     "name": "stdout",
     "output_type": "stream",
     "text": [
      "[[[[1 2 3 4]]]]\n",
      "4\n",
      "\n",
      "(1, 1, 1, 4)\n"
     ]
    }
   ],
   "source": [
    "var1=np.array([1,2,3,4],ndmin=4)\n",
    "print(var1)\n",
    "print(var1.ndim)\n",
    "print()\n",
    "print(var1.shape)"
   ]
  },
  {
   "cell_type": "code",
   "execution_count": 127,
   "id": "18850bc4-78b4-4357-a9f3-f30c84d1fb2b",
   "metadata": {},
   "outputs": [
    {
     "name": "stdout",
     "output_type": "stream",
     "text": [
      "[1 2 3 4 5 6 1 2 3]\n",
      "1\n",
      "\n",
      "[[1 2 3]\n",
      " [4 5 6]\n",
      " [1 2 3]]\n"
     ]
    }
   ],
   "source": [
    "#Reshape\n",
    "var2=np.array([1,2,3,4,5,6,1,2,3])\n",
    "print(var2)\n",
    "print(var2.ndim)\n",
    "print()\n",
    "x=var2.reshape(3,3)\n",
    "print(x)"
   ]
  },
  {
   "cell_type": "code",
   "execution_count": 133,
   "id": "013b653f-acb8-4a7e-b77b-9e76db22d424",
   "metadata": {},
   "outputs": [
    {
     "name": "stdout",
     "output_type": "stream",
     "text": [
      "[ 1  2  3  4  5  6  7  8  9 10 11 12]\n",
      "1\n",
      "\n",
      "[[[ 1  2]\n",
      "  [ 3  4]\n",
      "  [ 5  6]]\n",
      "\n",
      " [[ 7  8]\n",
      "  [ 9 10]\n",
      "  [11 12]]]\n"
     ]
    }
   ],
   "source": [
    "var3=np.array([1,2,3,4,5,6,7,8,9,10,11,12])\n",
    "print(var3)\n",
    "print(var3.ndim)\n",
    "print()\n",
    "x1=var3.reshape(2,3,2)\n",
    "print(x1)"
   ]
  },
  {
   "cell_type": "code",
   "execution_count": 135,
   "id": "a413402f-1c6a-4dc9-9c05-cc6c0b1ca06d",
   "metadata": {},
   "outputs": [
    {
     "name": "stdout",
     "output_type": "stream",
     "text": [
      "[ 1  2  3  4  5  6  7  8  9 10 11 12]\n",
      "1\n",
      "\n",
      "[[[ 1  2]\n",
      "  [ 3  4]\n",
      "  [ 5  6]]\n",
      "\n",
      " [[ 7  8]\n",
      "  [ 9 10]\n",
      "  [11 12]]]\n",
      "3\n",
      "\n",
      "[ 1  2  3  4  5  6  7  8  9 10 11 12]\n",
      "1\n"
     ]
    }
   ],
   "source": [
    "var3=np.array([1,2,3,4,5,6,7,8,9,10,11,12])\n",
    "print(var3)\n",
    "print(var3.ndim)\n",
    "print()\n",
    "x1=var3.reshape(2,3,2)\n",
    "print(x1)\n",
    "print(x1.ndim)\n",
    "\n",
    "print()\n",
    "\n",
    "one=x1.reshape(-1)\n",
    "print(one)\n",
    "print(one.ndim)"
   ]
  },
  {
   "cell_type": "code",
   "execution_count": null,
   "id": "3fd4be59-d586-4236-a77e-cb0ab0bb7f32",
   "metadata": {},
   "outputs": [],
   "source": [
    "#Arithmetic Operation in NumPy Array\n",
    "#a+b    np.add(a,b)\n",
    "#a-b    np.subtract(a,b)\n",
    "#a*b    np.multiply(a,b)\n",
    "#a/b    np.divide(a,b)\n",
    "#a%b    np.mod(a,b)\n",
    "#a**b    np.power(a,b)\n",
    "#1/a    np.reciprocal(a)"
   ]
  },
  {
   "cell_type": "code",
   "execution_count": 137,
   "id": "35079f39-8499-4de9-b90e-0b0fe80289d8",
   "metadata": {},
   "outputs": [
    {
     "name": "stdout",
     "output_type": "stream",
     "text": [
      "[4 5 6 7]\n"
     ]
    }
   ],
   "source": [
    "var=np.array([1,2,3,4])\n",
    "varadd=var+3\n",
    "print(varadd)"
   ]
  },
  {
   "cell_type": "code",
   "execution_count": 143,
   "id": "6edf5ab8-ad7d-4880-a183-9814b5e4c264",
   "metadata": {},
   "outputs": [
    {
     "name": "stdout",
     "output_type": "stream",
     "text": [
      "[2 4 6 8]\n"
     ]
    }
   ],
   "source": [
    "var1=np.array([1,2,3,4])\n",
    "var2=np.array([1,2,3,4])\n",
    "varadd=var1+var2\n",
    "print(varadd)"
   ]
  },
  {
   "cell_type": "code",
   "execution_count": 153,
   "id": "a52f2839-ba2d-478f-b5b0-046364b2a3e3",
   "metadata": {},
   "outputs": [
    {
     "name": "stdout",
     "output_type": "stream",
     "text": [
      "[2 4 6 8]\n"
     ]
    }
   ],
   "source": [
    "var1=np.array([1,2,3,4])\n",
    "var2=np.array([1,2,3,4])\n",
    "varadd=np.add(var1,var2)\n",
    "print(varadd)"
   ]
  },
  {
   "cell_type": "code",
   "execution_count": 145,
   "id": "b3841618-1a58-4640-93e3-d080eb8dbf8b",
   "metadata": {},
   "outputs": [
    {
     "name": "stdout",
     "output_type": "stream",
     "text": [
      "[-2 -1  0  1]\n"
     ]
    }
   ],
   "source": [
    "var=np.array([1,2,3,4])\n",
    "varsub=var-3\n",
    "print(varsub)"
   ]
  },
  {
   "cell_type": "code",
   "execution_count": 159,
   "id": "de2e8904-45f5-4900-ac15-4ea96b325409",
   "metadata": {},
   "outputs": [
    {
     "name": "stdout",
     "output_type": "stream",
     "text": [
      "[-2 -1  0  1]\n"
     ]
    }
   ],
   "source": [
    "var=np.array([1,2,3,4])\n",
    "varsub=np.subtract(var,3)\n",
    "print(varsub)"
   ]
  },
  {
   "cell_type": "code",
   "execution_count": 161,
   "id": "81125600-30d0-448c-bab5-6bdb01a63d7e",
   "metadata": {},
   "outputs": [
    {
     "name": "stdout",
     "output_type": "stream",
     "text": [
      "[ 3  6  9 12]\n"
     ]
    }
   ],
   "source": [
    "var=np.array([1,2,3,4])\n",
    "varmul=np.multiply(var,3)\n",
    "print(varmul)"
   ]
  },
  {
   "cell_type": "code",
   "execution_count": 149,
   "id": "13b91f70-6624-47d3-801d-156d94f26164",
   "metadata": {},
   "outputs": [
    {
     "name": "stdout",
     "output_type": "stream",
     "text": [
      "[5.  6.  6.5 7. ]\n"
     ]
    }
   ],
   "source": [
    "var=np.array([10,12,13,14])\n",
    "varadd=var/2\n",
    "print(varadd)"
   ]
  },
  {
   "cell_type": "code",
   "execution_count": 163,
   "id": "80907078-dcda-4d50-8b2c-1cad3834a271",
   "metadata": {},
   "outputs": [
    {
     "name": "stdout",
     "output_type": "stream",
     "text": [
      "[5.  6.  6.5 7. ]\n"
     ]
    }
   ],
   "source": [
    "var=np.array([10,12,13,14])\n",
    "vardiv=np.divide(var,2)\n",
    "print(vardiv)"
   ]
  },
  {
   "cell_type": "code",
   "execution_count": 151,
   "id": "4502df4f-0830-4ad8-aed4-015f193806c1",
   "metadata": {},
   "outputs": [
    {
     "name": "stdout",
     "output_type": "stream",
     "text": [
      "[1 0 0 0]\n"
     ]
    }
   ],
   "source": [
    "var=np.array([10,27,30,45])\n",
    "varmod=var%3\n",
    "print(varmod)"
   ]
  },
  {
   "cell_type": "code",
   "execution_count": 167,
   "id": "f1b1c242-67d1-4d40-9739-6d92409ea0be",
   "metadata": {},
   "outputs": [
    {
     "name": "stdout",
     "output_type": "stream",
     "text": [
      "[1 0 0 0]\n"
     ]
    }
   ],
   "source": [
    "var=np.array([10,27,30,45])\n",
    "varmod=np.mod(var,3)\n",
    "print(varmod)"
   ]
  },
  {
   "cell_type": "code",
   "execution_count": 169,
   "id": "583d0836-ef0c-4da4-a4e0-bf410963ad0e",
   "metadata": {},
   "outputs": [
    {
     "name": "stdout",
     "output_type": "stream",
     "text": [
      "[ 1000 19683 27000 91125]\n"
     ]
    }
   ],
   "source": [
    "var=np.array([10,27,30,45])\n",
    "varpow=np.power(var,3)\n",
    "print(varpow)"
   ]
  },
  {
   "cell_type": "code",
   "execution_count": 179,
   "id": "09e2be96-b831-4b42-a1c2-114c1017729c",
   "metadata": {},
   "outputs": [
    {
     "name": "stdout",
     "output_type": "stream",
     "text": [
      "[0 0 0 0]\n"
     ]
    }
   ],
   "source": [
    "var=np.array([10,27,30,45])\n",
    "varpow=np.reciprocal(var)\n",
    "print(varpow)"
   ]
  },
  {
   "cell_type": "code",
   "execution_count": null,
   "id": "0d1b2fa7-e0bb-4f96-8429-f1bb5cb124ab",
   "metadata": {},
   "outputs": [],
   "source": [
    "#2D array"
   ]
  },
  {
   "cell_type": "code",
   "execution_count": 175,
   "id": "895616c5-f2c7-44f4-a0eb-98fb535afe87",
   "metadata": {},
   "outputs": [
    {
     "name": "stdout",
     "output_type": "stream",
     "text": [
      "[[10 27 30 45]\n",
      " [ 1  2  3  4]]\n",
      "\n",
      "[[10 27 30 45]\n",
      " [ 1  2  3  4]]\n",
      "\n",
      "[[ 100  729  900 2025]\n",
      " [   1    4    9   16]]\n"
     ]
    }
   ],
   "source": [
    "var21=np.array([[10,27,30,45],[1,2,3,4]])\n",
    "var22=np.array([[10,27,30,45],[1,2,3,4]])\n",
    "print(var21)\n",
    "print()\n",
    "print(var22)\n",
    "print()\n",
    "varadd2=var21*var22\n",
    "print(varadd2)"
   ]
  },
  {
   "cell_type": "code",
   "execution_count": null,
   "id": "cd4b0d26-5c88-4eda-a845-706cb4c5336a",
   "metadata": {},
   "outputs": [],
   "source": [
    "#Arithmetic Functions\n",
    "#np.min(x)\n",
    "#np.max(x)\n",
    "#np.argmin(x)\n",
    "#np.sqrt(x)\n",
    "#np.sin(x)\n",
    "#np.cos(x)\n",
    "#np.cumsum(x)"
   ]
  },
  {
   "cell_type": "code",
   "execution_count": 29,
   "id": "1b2896c4-7c11-4f60-bf7a-efd74038e1eb",
   "metadata": {},
   "outputs": [
    {
     "name": "stdout",
     "output_type": "stream",
     "text": [
      "min :  2 2\n",
      "max :  77 5\n",
      "Sqrt [5.83095189 8.06225775 1.41421356 3.60555128 7.41619849 8.77496439\n",
      " 8.71779789 6.70820393]\n"
     ]
    }
   ],
   "source": [
    "var=np.array([34,65,2,13,55,77,76,45])\n",
    "print(\"min : \",np.min(var),np.argmin (var))\n",
    "print(\"max : \",np.max(var),np.argmax (var))\n",
    "print(\"Sqrt\",np.sqrt(var))"
   ]
  },
  {
   "cell_type": "code",
   "execution_count": 27,
   "id": "5d7c1c1d-2d1f-4038-8ee9-7131360d22a5",
   "metadata": {},
   "outputs": [
    {
     "name": "stdout",
     "output_type": "stream",
     "text": [
      "[1 2 3 4]\n",
      "[2 1]\n",
      "Sqrt [[2.23606798 1.41421356 1.73205081 2.        ]\n",
      " [1.         1.41421356 5.91607978 2.44948974]]\n"
     ]
    }
   ],
   "source": [
    "var1=np.array([[1,2,3,4],[1,2,35,6]])\n",
    "print(np.min(var1,axis=0)) #colum\n",
    "\n",
    "var1=np.array([[5,2,3,4],[1,2,35,6]])\n",
    "print(np.min(var1,axis=1)) #Row"
   ]
  },
  {
   "cell_type": "code",
   "execution_count": 35,
   "id": "d5b5eb4c-dbd1-4558-9fb9-ad3ed76fb9a3",
   "metadata": {},
   "outputs": [
    {
     "name": "stdout",
     "output_type": "stream",
     "text": [
      "sin [ 0.90929743  0.14112001 -0.7568025  -0.95892427 -0.2794155 ]\n",
      "cos [-0.41614684 -0.9899925  -0.65364362  0.28366219  0.96017029]\n",
      "comsum [ 2  5  9 14 20]\n"
     ]
    }
   ],
   "source": [
    "var=np.array([2,3,4,5,6])\n",
    "print(\"sin\",np.sin(var))\n",
    "print(\"cos\",np.cos(var))\n",
    "print(\"comsum\",np.cumsum(var))"
   ]
  },
  {
   "cell_type": "code",
   "execution_count": 19,
   "id": "4b1acdd5-d67a-4435-b8f6-6c9853f94809",
   "metadata": {},
   "outputs": [
    {
     "name": "stdout",
     "output_type": "stream",
     "text": [
      "[1 2 3 4 5]\n",
      "first element 1\n",
      "last element 5\n",
      "my array after multiplay by 2:=  [ 2  4  6  8 10]\n"
     ]
    }
   ],
   "source": [
    "import numpy as np\n",
    "list=[1,2,3,4,5]\n",
    "my_array=np.array(list)\n",
    "print(my_array)\n",
    "print(\"first element\",my_array[0])\n",
    "print(\"last element\",my_array[-1])\n",
    "print(\"my array after multiplay by 2:= \",my_array *2)"
   ]
  },
  {
   "cell_type": "code",
   "execution_count": 45,
   "id": "9ac9f5ed-c80f-46a6-8476-fe9e6010fcc0",
   "metadata": {},
   "outputs": [
    {
     "name": "stdout",
     "output_type": "stream",
     "text": [
      "(3,)\n",
      "\n",
      "[1 2 3]\n",
      "(3,)\n",
      "\n",
      "[[1]\n",
      " [2]\n",
      " [3]]\n",
      "[[2 3 4]\n",
      " [3 4 5]\n",
      " [4 5 6]]\n"
     ]
    }
   ],
   "source": [
    "#Broadcasting NumPy Arrays\n",
    "x=np.array([1,2,3])\n",
    "print(x.shape) # 3\n",
    "print()\n",
    "print(x)                     \n",
    "\n",
    "y=np.array([[1],[2],[3]])\n",
    "print(x.shape)\n",
    "print()       \n",
    "print(y)                 \n",
    "print(x+y)"
   ]
  },
  {
   "cell_type": "code",
   "execution_count": 67,
   "id": "aeee85ee-573c-40ba-b463-c3fd77d0d4f9",
   "metadata": {},
   "outputs": [
    {
     "name": "stdout",
     "output_type": "stream",
     "text": [
      "(2, 1)\n",
      "[[1]\n",
      " [2]]\n",
      "\n",
      "(2, 3)\n",
      "[[1 2 3]\n",
      " [1 2 3]]\n",
      "\n",
      "[[2 3 4]\n",
      " [3 4 5]]\n"
     ]
    }
   ],
   "source": [
    "x1=np.array([[1],[2]])\n",
    "print(x1.shape)\n",
    "print(x1)\n",
    "print()\n",
    "\n",
    "y1=np.array([[1,2,3],[1,2,3]])\n",
    "print(y1.shape)\n",
    "print(y1)\n",
    "print()\n",
    "\n",
    "print(x1+y1)"
   ]
  },
  {
   "cell_type": "code",
   "execution_count": 73,
   "id": "6c53971d-1911-413b-ab9c-dd338e364ef2",
   "metadata": {},
   "outputs": [
    {
     "name": "stdout",
     "output_type": "stream",
     "text": [
      "2\n",
      "6\n",
      "1\n"
     ]
    }
   ],
   "source": [
    "#Indexing & slicing in NumPy Array\n",
    "var1=np.array([1,2,3,4])\n",
    "              #0,1,2,3\n",
    "              #-4,-3,-2,-1\n",
    "print(var[0])\n",
    "print(var[-1])\n",
    "print(var.ndim)"
   ]
  },
  {
   "cell_type": "code",
   "execution_count": 94,
   "id": "de2b986a-4296-4158-906e-c8146f1adf2d",
   "metadata": {},
   "outputs": [
    {
     "name": "stdout",
     "output_type": "stream",
     "text": [
      "2\n",
      "[[4 5 6 4]\n",
      " [4 6 8 9]]\n",
      "6\n",
      "8\n"
     ]
    }
   ],
   "source": [
    "var=np.array([[2,3,5,6,9],[1,2,4,7,8]])\n",
    "print(var2.ndim)\n",
    "print(var2)\n",
    "print(var2[0,2])\n",
    "print(var2[1,-2])"
   ]
  },
  {
   "cell_type": "code",
   "execution_count": 120,
   "id": "5c741d15-31bf-40c3-a301-70aa46310881",
   "metadata": {},
   "outputs": [
    {
     "name": "stdout",
     "output_type": "stream",
     "text": [
      "3\n",
      "[[[2 3 5]\n",
      "  [5 6 7]]]\n",
      "7\n"
     ]
    }
   ],
   "source": [
    "var3=np.array([[[2,3,5],[5,6,7]]])\n",
    "print(var3.ndim)\n",
    "print(var3)\n",
    "print(var3[0,1,2])\n",
    "\n"
   ]
  },
  {
   "cell_type": "code",
   "execution_count": 150,
   "id": "56361612-a3ae-4bfb-90c3-9756f3a247e0",
   "metadata": {},
   "outputs": [
    {
     "name": "stdout",
     "output_type": "stream",
     "text": [
      "[6 5 4 7 9 8]\n",
      "2 to 4 [5 4 7]\n",
      "2 to End [5 4 7 9 8]\n",
      "start to 5 [6 5 4 7 9]\n",
      "stop : [6 4 9]\n",
      "stop : [5 7]\n"
     ]
    }
   ],
   "source": [
    "#Slicing NumPy Arrays 1D ndim\n",
    "x=np.array([6,5,4,7,9,8])\n",
    "          # 0,1,2,3,4,5\n",
    "print(x)\n",
    "print(\"2 to 4\",x[1:4]) #start:stop\n",
    "print(\"2 to End\",x[1:]) \n",
    "print(\"start to 5\",x[:5])\n",
    "print(\"stop :\",x[::2]) #step\n",
    "print(\"stop :\",x[1:5:2]) #start:stop:step\n"
   ]
  },
  {
   "cell_type": "code",
   "execution_count": 160,
   "id": "d28da6a3-93ab-4645-bee1-2d708c312343",
   "metadata": {},
   "outputs": [
    {
     "name": "stdout",
     "output_type": "stream",
     "text": [
      "[[6 5 4 7 9 8]\n",
      " [1 3 5 6 7 8]]\n",
      "Dimenrion: 2\n",
      "5 to 9 [5 4 7 9]\n",
      "5 to End [5 6 7 8]\n",
      "start to 5 [1 3 5 6 7]\n",
      "stop : [6 4 9]\n",
      "stop : [3 6]\n"
     ]
    }
   ],
   "source": [
    "#Slicing NumPy Arrays 2D ndim\n",
    "y=np.array([[6,5,4,7,9,8],[1,3,5,6,7,8]]) #0,1\n",
    "          # 0,1,2,3,4,5\n",
    "print(y)\n",
    "print(\"Dimenrion:\",y.ndim)\n",
    "\n",
    "print(\"5 to 9\",y[0,1:5]) #start:stop\n",
    "print(\"5 to End\",y[1,2:]) \n",
    "print(\"start to 5\",y[1,:5])\n",
    "print(\"stop :\",y[0,::2]) #step\n",
    "print(\"stop :\",y[1,1:5:2]) #start:stop:step"
   ]
  },
  {
   "cell_type": "code",
   "execution_count": 162,
   "id": "14790c83-3e25-4acd-9121-740245f2279d",
   "metadata": {},
   "outputs": [
    {
     "name": "stdout",
     "output_type": "stream",
     "text": [
      "[2 3 4 5 8 9 6]\n",
      "\n",
      "2\n",
      "3\n",
      "4\n",
      "5\n",
      "8\n",
      "9\n",
      "6\n"
     ]
    }
   ],
   "source": [
    "# Iterating NumPy Arrays\n",
    "var=np.array([2,3,4,5,8,9,6])\n",
    "print(var)\n",
    "print()\n",
    "for i in var:\n",
    "    print(i)\n"
   ]
  },
  {
   "cell_type": "code",
   "execution_count": 172,
   "id": "5d8db328-a301-4f16-a70a-1bf6635e685b",
   "metadata": {},
   "outputs": [
    {
     "name": "stdout",
     "output_type": "stream",
     "text": [
      "[[2 4 6 3]\n",
      " [5 6 3 7]]\n",
      "\n",
      "2\n",
      "4\n",
      "6\n",
      "3\n",
      "5\n",
      "6\n",
      "3\n",
      "7\n"
     ]
    }
   ],
   "source": [
    "var1=np.array([[2,4,6,3],[5,6,3,7]])\n",
    "print(var1)\n",
    "print()\n",
    "for i in var1:\n",
    "    for j in i:\n",
    "        print(j)"
   ]
  },
  {
   "cell_type": "code",
   "execution_count": 180,
   "id": "293c8602-6fdd-4e46-9cc2-77f9fa5efec1",
   "metadata": {},
   "outputs": [
    {
     "name": "stdout",
     "output_type": "stream",
     "text": [
      "[[[2 4 6 3]\n",
      "  [5 6 3 7]]]\n",
      "Dimention D= 3\n",
      "\n",
      "2\n",
      "4\n",
      "6\n",
      "3\n",
      "5\n",
      "6\n",
      "3\n",
      "7\n"
     ]
    }
   ],
   "source": [
    "var2=np.array([[[2,4,6,3],[5,6,3,7]]])\n",
    "print(var2)\n",
    "print(\"Dimention D=\",var2.ndim)\n",
    "print()\n",
    "for i in var2:\n",
    "    for j in i:\n",
    "        for k in j:  \n",
    "            print(k)"
   ]
  },
  {
   "cell_type": "code",
   "execution_count": 184,
   "id": "89a40e67-8e77-46ad-b993-5d76f685e7c0",
   "metadata": {},
   "outputs": [
    {
     "name": "stdout",
     "output_type": "stream",
     "text": [
      "[[[2 4 6 3]\n",
      "  [5 6 3 7]]]\n",
      "Dimention D= 3\n",
      "\n",
      "2\n",
      "4\n",
      "6\n",
      "3\n",
      "5\n",
      "6\n",
      "3\n",
      "7\n"
     ]
    }
   ],
   "source": [
    "var2=np.array([[[2,4,6,3],[5,6,3,7]]])\n",
    "print(var2)\n",
    "print(\"Dimention D=\",var2.ndim)\n",
    "print()\n",
    "for i in np.nditer(var2):\n",
    "    print(i)\n"
   ]
  },
  {
   "cell_type": "code",
   "execution_count": 186,
   "id": "e44fe9a9-2c33-4bcc-825b-bba283aa84c7",
   "metadata": {},
   "outputs": [
    {
     "name": "stdout",
     "output_type": "stream",
     "text": [
      "[[[2 4 6 3]\n",
      "  [5 6 3 7]]]\n",
      "Dimention D= 3\n",
      "\n",
      "(0, 0, 0) 2\n",
      "(0, 0, 1) 4\n",
      "(0, 0, 2) 6\n",
      "(0, 0, 3) 3\n",
      "(0, 1, 0) 5\n",
      "(0, 1, 1) 6\n",
      "(0, 1, 2) 3\n",
      "(0, 1, 3) 7\n"
     ]
    }
   ],
   "source": [
    "var3=np.array([[[2,4,6,3],[5,6,3,7]]])\n",
    "print(var3)\n",
    "print(\"Dimention D=\",var3.ndim)\n",
    "print()\n",
    "for i,d in np.ndenumerate(var3):\n",
    "    print(i,d)"
   ]
  },
  {
   "cell_type": "code",
   "execution_count": 204,
   "id": "2a2ee48e-1447-418f-8192-8157a38e254e",
   "metadata": {},
   "outputs": [
    {
     "name": "stdout",
     "output_type": "stream",
     "text": [
      "Orignal:= [ 1  2  3 30  5  6]\n",
      "Copy:= [1 2 3 4 5 6]\n"
     ]
    }
   ],
   "source": [
    " #Copy vs View in NumPy Arrays\n",
    "x=np.array([1,2,3,4,5,6])\n",
    "co=x.copy()\n",
    "x[3]=30\n",
    "print(\"Orignal:=\",x)\n",
    "print(\"Copy:=\",co)"
   ]
  },
  {
   "cell_type": "code",
   "execution_count": 206,
   "id": "8feb8f87-526f-4eb2-b87a-aa5c12a25e89",
   "metadata": {},
   "outputs": [
    {
     "name": "stdout",
     "output_type": "stream",
     "text": [
      "Orignal:= [ 1  2  3 30  5  6]\n",
      "view := [ 1  2  3 30  5  6]\n"
     ]
    }
   ],
   "source": [
    "y=np.array([1,2,3,4,5,6])\n",
    "vw=y.view()\n",
    "vw[3]=30\n",
    "print(\"Orignal:=\",y)\n",
    "print(\"view :=\",vw)"
   ]
  },
  {
   "cell_type": "code",
   "execution_count": 3,
   "id": "d414b94f-fc9c-4b31-afc3-01586b8e8118",
   "metadata": {},
   "outputs": [
    {
     "name": "stdout",
     "output_type": "stream",
     "text": [
      "[ 1  2  3  4  5  6  7  8  9 10]\n"
     ]
    }
   ],
   "source": [
    "#Join & split Functions NumPy Arrays\n",
    "#join Array\n",
    "import numpy as np\n",
    "var=np.array([1,2,3,4,5])\n",
    "var1=np.array([6,7,8,9,10])\n",
    "new_var=np.concatenate((var,var1))\n",
    "print(new_var)"
   ]
  },
  {
   "cell_type": "code",
   "execution_count": 15,
   "id": "4a1109d7-8a62-4571-b7a2-ab85b5e12675",
   "metadata": {},
   "outputs": [
    {
     "name": "stdout",
     "output_type": "stream",
     "text": [
      "[[1 2 3]\n",
      " [4 5 6]]\n",
      "\n",
      "[[ 6  7  8]\n",
      " [ 9 10  8]]\n",
      "\n",
      "[[ 1  2  3]\n",
      " [ 4  5  6]\n",
      " [ 6  7  8]\n",
      " [ 9 10  8]]\n"
     ]
    }
   ],
   "source": [
    "vr=np.array([[1,2,3],[4,5,6]])\n",
    "vr1=np.array([[6,7,8],[9,10,8]])\n",
    "print(vr)\n",
    "print()\n",
    "print(vr1)\n",
    "print()\n",
    "#new_var=np.concatenate((vr,vr1),axis=1)\n",
    "new_var=np.concatenate((vr,vr1),axis=0)\n",
    "print(new_var)"
   ]
  },
  {
   "cell_type": "code",
   "execution_count": 31,
   "id": "3cd7f6e7-b514-4651-97a3-fffe6a3d40d8",
   "metadata": {},
   "outputs": [
    {
     "name": "stdout",
     "output_type": "stream",
     "text": [
      "[[ 1  2  3  4  5]\n",
      " [ 6  7  8  9 10]]\n",
      "\n",
      "[ 1  2  3  4  5  6  7  8  9 10]\n",
      "\n",
      "[[ 1  2  3  4  5]\n",
      " [ 6  7  8  9 10]]\n",
      "\n",
      "[[[ 1  6]\n",
      "  [ 2  7]\n",
      "  [ 3  8]\n",
      "  [ 4  9]\n",
      "  [ 5 10]]]\n"
     ]
    }
   ],
   "source": [
    "var_1=np.array([1,2,3,4,5])\n",
    "var_2=np.array([6,7,8,9,10])\n",
    "#n_var=np.stack((var_1,var_2),axis=1)\n",
    "n_var=np.stack((var_1,var_2),axis=0)\n",
    "n_var1=np.hstack((var_1,var_2)) #row\n",
    "n_var2=np.vstack((var_1,var_2)) #columns\n",
    "n_var3=np.dstack((var_1,var_2)) #height\n",
    "print(n_var)\n",
    "print()\n",
    "print(n_var1)\n",
    "print()\n",
    "print(n_var2)\n",
    "print()\n",
    "print(n_var3)"
   ]
  },
  {
   "cell_type": "code",
   "execution_count": 47,
   "id": "6b9f619f-c20f-4775-9fa9-353cbcc7f244",
   "metadata": {},
   "outputs": [
    {
     "name": "stdout",
     "output_type": "stream",
     "text": [
      "[1 2 3 4 5 6 7 8 9]\n",
      "\n",
      "[array([1, 2, 3]), array([4, 5, 6]), array([7, 8, 9])]\n",
      "<class 'list'>\n",
      "[7 8 9]\n"
     ]
    }
   ],
   "source": [
    "#Split array\n",
    "var=np.array([1,2,3,4,5,6,7,8,9])\n",
    "\n",
    "print(var)\n",
    "\n",
    "ar=np.array_split(var,3)\n",
    "print()\n",
    "print(ar)\n",
    "print(type(ar))\n",
    "print(ar[2])"
   ]
  },
  {
   "cell_type": "code",
   "execution_count": 55,
   "id": "05d4a05c-05ab-45e3-99d5-110ecbac82c9",
   "metadata": {},
   "outputs": [
    {
     "name": "stdout",
     "output_type": "stream",
     "text": [
      "[[1 2 3]\n",
      " [4 5 6]\n",
      " [7 8 9]]\n",
      "\n",
      "[array([[1, 2, 3]]), array([[4, 5, 6]]), array([[7, 8, 9]])]\n",
      "\n",
      "[array([[1],\n",
      "       [4],\n",
      "       [7]]), array([[2],\n",
      "       [5],\n",
      "       [8]]), array([[3],\n",
      "       [6],\n",
      "       [9]])]\n"
     ]
    }
   ],
   "source": [
    "var1=np.array([[1,2,3],[4,5,6],[7,8,9]])\n",
    "\n",
    "print(var1)\n",
    "\n",
    "ar1=np.array_split(var1,3)\n",
    "ar2=np.array_split(var1,3,axis=1)\n",
    "print()\n",
    "print(ar1)\n",
    "print()\n",
    "print(ar2)\n"
   ]
  },
  {
   "cell_type": "code",
   "execution_count": 61,
   "id": "7ebd5406-2448-4cca-8f8c-b47e1a7b1297",
   "metadata": {},
   "outputs": [
    {
     "name": "stdout",
     "output_type": "stream",
     "text": [
      "(array([1, 2, 3, 8, 9]),)\n"
     ]
    }
   ],
   "source": [
    "#Search,Sort,SearchShorted,Filter Functions\n",
    "var=np.array([4,6,21,3,2,7,8,4,24,6])\n",
    "            # 0,1,2,3,4,5,6,7,8,9,10\n",
    "x=np.where(var%3==0)\n",
    "print(x)"
   ]
  },
  {
   "cell_type": "code",
   "execution_count": 67,
   "id": "c3a93eaf-4e29-42f4-8699-2464f5babaeb",
   "metadata": {},
   "outputs": [
    {
     "name": "stdout",
     "output_type": "stream",
     "text": [
      "[4 4 4]\n"
     ]
    }
   ],
   "source": [
    "var1=np.array([1,2,3,4,8,9])\n",
    "            \n",
    "#x1=np.searchsorted(var1,6)\n",
    "x1=np.searchsorted(var1,[5,6,7])\n",
    "#x1=np.searchsorted(var1,6,side=\"right\")\n",
    "print(x1)"
   ]
  },
  {
   "cell_type": "code",
   "execution_count": 85,
   "id": "7997e92b-8fc7-42be-b91c-d0b71ab1e143",
   "metadata": {},
   "outputs": [
    {
     "name": "stdout",
     "output_type": "stream",
     "text": [
      "[ 2  3  4  6  7  8 10 16 21 24]\n",
      "\n",
      "[[ 4  6 21]\n",
      " [ 2  3  7]\n",
      " [ 8 10 24]]\n",
      "['a' 'c' 'd' 'n' 's']\n"
     ]
    }
   ],
   "source": [
    "var_1=np.array([4,6,21,3,2,7,8,10,24,16])\n",
    "var_3=np.array([[4,6,21],[3,2,7],[8,10,24]])\n",
    "print(np.sort(var_1))\n",
    "print()\n",
    "print(np.sort(var_3))\n",
    "var_2=np.array([\"c\",\"d\",\"a\",\"n\",\"s\"])\n",
    "print(np.sort(var_2))"
   ]
  },
  {
   "cell_type": "code",
   "execution_count": 89,
   "id": "129bf419-5613-4b45-a28f-1825bac87f52",
   "metadata": {},
   "outputs": [
    {
     "name": "stdout",
     "output_type": "stream",
     "text": [
      "[1 5 8]\n",
      "<class 'numpy.ndarray'>\n"
     ]
    }
   ],
   "source": [
    "#Filter Array\n",
    "var_4=np.array([1,3,5,7,8])\n",
    "f=[True,False,True,False,True]\n",
    "new_a=var_4[f]\n",
    "print(new_a)\n",
    "print(type(new_a))"
   ]
  },
  {
   "cell_type": "code",
   "execution_count": null,
   "id": "d9d978c4-b54d-47bc-a4c9-7ddeadf7b3c0",
   "metadata": {},
   "outputs": [],
   "source": [
    "#NumPy Arrays Functions\n",
    "#Arithmetic Function\n",
    "#Shuffle\n",
    "#Unique\n",
    "#Resize\n",
    "#Flatten\n",
    "#Ravel"
   ]
  },
  {
   "cell_type": "code",
   "execution_count": 93,
   "id": "4223a36f-60ef-43c3-a815-6f71aa796ad9",
   "metadata": {},
   "outputs": [
    {
     "name": "stdout",
     "output_type": "stream",
     "text": [
      "[3 2 1 5 4]\n"
     ]
    }
   ],
   "source": [
    "#shuffer\n",
    "var = np.array([1,2,3,4,5])\n",
    "np.random.shuffle(var)\n",
    "print(var)"
   ]
  },
  {
   "cell_type": "code",
   "execution_count": 101,
   "id": "880bb598-7178-4ef4-b36c-184b7aa8c54f",
   "metadata": {},
   "outputs": [
    {
     "name": "stdout",
     "output_type": "stream",
     "text": [
      "(array([1, 2, 3, 4, 5, 6]), array([0, 1, 2, 4, 6, 5]), array([2, 2, 2, 2, 2, 1]))\n"
     ]
    }
   ],
   "source": [
    "#unique\n",
    "var1 = np.array([1,2,3,3,4,6,5,1,2,4,5])\n",
    "x=np.unique(var1,return_index=True,return_counts=True)\n",
    "print(x)"
   ]
  },
  {
   "cell_type": "code",
   "execution_count": 115,
   "id": "c9356242-15b7-4b88-a0f8-0b4c8b637f0d",
   "metadata": {},
   "outputs": [
    {
     "name": "stdout",
     "output_type": "stream",
     "text": [
      "[[1 2]\n",
      " [3 4]\n",
      " [5 6]\n",
      " [7 8]]\n"
     ]
    }
   ],
   "source": [
    "#resize\n",
    "var2=np.array([1,2,3,4,5,6,7,8,9])\n",
    "y=np.resize(var2,(4,2))\n",
    "print(y)"
   ]
  },
  {
   "cell_type": "code",
   "execution_count": 125,
   "id": "386784a0-7841-4291-91c1-83c1cc895e69",
   "metadata": {},
   "outputs": [
    {
     "name": "stdout",
     "output_type": "stream",
     "text": [
      "[[1 2]\n",
      " [3 4]\n",
      " [5 6]\n",
      " [7 8]]\n",
      "\n",
      "Flatten : [1 3 5 7 2 4 6 8]\n",
      "Ravel:  [1 2 3 4 5 6 7 8]\n"
     ]
    }
   ],
   "source": [
    "#flatten Order:{'C','F','A','K'}\n",
    "var2=np.array([1,2,3,4,5,6,7,8,9])\n",
    "y=np.resize(var2,(4,2))\n",
    "print(y)\n",
    "print()\n",
    "print(\"Flatten :\",y.flatten(order=\"F\"))\n",
    "print(\"Ravel: \",np.ravel(y,order=\"A\"))"
   ]
  },
  {
   "cell_type": "code",
   "execution_count": 159,
   "id": "3d9d0d4c-71c7-4d71-812a-47084a8f1d14",
   "metadata": {},
   "outputs": [
    {
     "name": "stdout",
     "output_type": "stream",
     "text": [
      "[1 2 3 4 5]\n",
      "[1 2 3 4 5 6]\n"
     ]
    }
   ],
   "source": [
    "#Insert and Delete Function\n",
    "var=np.array([1,2,3,4,5])\n",
    "print(var)\n",
    "#v=np.insert(var,5,6)\n",
    "#v=np.insert(var,(2,5),6)\n",
    "x=np.append(var,6)\n",
    "print(x)"
   ]
  },
  {
   "cell_type": "code",
   "execution_count": 161,
   "id": "8a1f5b98-6eeb-4336-9d8e-0578112b7d6f",
   "metadata": {},
   "outputs": [
    {
     "name": "stdout",
     "output_type": "stream",
     "text": [
      "[[1 2 3]\n",
      " [4 5 6]\n",
      " [6 9 8]]\n"
     ]
    }
   ],
   "source": [
    "var1=np.array([[1,2,3],[4,5,6]])\n",
    "#v1=np.insert(var1,2,7,axis=0)\n",
    "#v1=np.insert(var1,2,7,axis=1)\n",
    "#v1=np.insert(var1,2,[6,9,8],axis=0)\n",
    "v1=np.append(var1,[[6,9,8]],axis=0)\n",
    "print(v1)"
   ]
  },
  {
   "cell_type": "code",
   "execution_count": null,
   "id": "99e5f04e-2663-47d8-9c6c-e391cfe6ad5c",
   "metadata": {},
   "outputs": [],
   "source": [
    "var2=np.array([1,2,3,4,5])\n",
    "print(var)\n",
    "y=np.delete(var,)"
   ]
  },
  {
   "cell_type": "code",
   "execution_count": 169,
   "id": "7ff96ada-31bf-4f85-b841-f5d79741ede8",
   "metadata": {},
   "outputs": [
    {
     "name": "stdout",
     "output_type": "stream",
     "text": [
      "[[1 2 3]\n",
      " [4 5 6]]\n",
      "<class 'numpy.matrix'>\n"
     ]
    }
   ],
   "source": [
    "#Matrix in NumPyArray\n",
    "var=np.matrix([[1,2,3],[4,5,6]])\n",
    "print(var)\n",
    "print(type(var))"
   ]
  },
  {
   "cell_type": "code",
   "execution_count": 171,
   "id": "5d2628d9-34a3-42e8-823c-d16991c77cfa",
   "metadata": {},
   "outputs": [
    {
     "name": "stdout",
     "output_type": "stream",
     "text": [
      "[[1 2 3]\n",
      " [4 5 6]]\n",
      "<class 'numpy.ndarray'>\n"
     ]
    }
   ],
   "source": [
    "var1=np.array([[1,2,3],[4,5,6]])\n",
    "print(var1)\n",
    "print(type(var1))"
   ]
  },
  {
   "cell_type": "code",
   "execution_count": 177,
   "id": "b57a87ff-a883-47ae-8e20-4bfaedf39c1a",
   "metadata": {},
   "outputs": [
    {
     "name": "stdout",
     "output_type": "stream",
     "text": [
      "[[ 2  4  6]\n",
      " [ 8 10 12]]\n",
      "[[0 0 0]\n",
      " [0 0 0]]\n",
      "[[ 1  4  9]\n",
      " [16 25 36]]\n"
     ]
    }
   ],
   "source": [
    "#Arithmetric Operation in Matrix\n",
    "var1=np.array([[1,2,3],[4,5,6]])\n",
    "var2=np.array([[1,2,3],[4,5,6]])\n",
    "print(var1+var2)\n",
    "print(var1-var2)\n",
    "print(var1*var2)"
   ]
  },
  {
   "cell_type": "code",
   "execution_count": null,
   "id": "1d9632a5-b99c-471e-8c91-6e7d3c5b86ea",
   "metadata": {},
   "outputs": [],
   "source": [
    "#Matrix Function in NumPy Arrays\n",
    "#Transpose\n",
    "#Swapaxes\n",
    "#Inverse\n",
    "#Power\n",
    "#Determinate"
   ]
  },
  {
   "cell_type": "code",
   "execution_count": 183,
   "id": "554d33f4-cbb9-4be3-8635-55f420a6e8bc",
   "metadata": {},
   "outputs": [
    {
     "name": "stdout",
     "output_type": "stream",
     "text": [
      "[[1 2 3]\n",
      " [4 5 6]]\n",
      "\n",
      "[[1 4]\n",
      " [2 5]\n",
      " [3 6]]\n",
      "\n",
      "[[1 4]\n",
      " [2 5]\n",
      " [3 6]]\n"
     ]
    }
   ],
   "source": [
    "var=np.array([[1,2,3],[4,5,6]])\n",
    "print(var)\n",
    "print()\n",
    "print(np.transpose(var))\n",
    "print()\n",
    "print(var.T)"
   ]
  },
  {
   "cell_type": "code",
   "execution_count": 197,
   "id": "3b22f546-bb7a-4a9d-a91b-438de012c5d2",
   "metadata": {},
   "outputs": [
    {
     "name": "stdout",
     "output_type": "stream",
     "text": [
      "[[1 2]\n",
      " [4 5]]\n",
      "\n",
      "[[1 4]\n",
      " [2 5]]\n"
     ]
    }
   ],
   "source": [
    "var1=np.matrix([[1,2],[4,5]])\n",
    "print(var1)\n",
    "print()\n",
    "print(np.swapaxes(var1,0,1))"
   ]
  },
  {
   "cell_type": "code",
   "execution_count": 199,
   "id": "b82bc5ec-1827-4775-84bc-7294f9fa974f",
   "metadata": {},
   "outputs": [
    {
     "name": "stdout",
     "output_type": "stream",
     "text": [
      "[[1 2]\n",
      " [4 5]]\n",
      "\n",
      "[[-1.66666667  0.66666667]\n",
      " [ 1.33333333 -0.33333333]]\n"
     ]
    }
   ],
   "source": [
    "var2=np.matrix([[1,2],[4,5]])\n",
    "print(var2)\n",
    "print()\n",
    "print(np.linalg.inv(var2))"
   ]
  },
  {
   "cell_type": "code",
   "execution_count": 207,
   "id": "8e2dbf4c-7f86-448d-a83a-f7fdbd63895f",
   "metadata": {},
   "outputs": [
    {
     "name": "stdout",
     "output_type": "stream",
     "text": [
      "[[1 2]\n",
      " [4 5]]\n",
      "\n",
      "[[ 9 12]\n",
      " [24 33]]\n",
      "[[1 0]\n",
      " [0 1]]\n",
      "[[ 3.66666667 -1.33333333]\n",
      " [-2.66666667  1.        ]]\n"
     ]
    }
   ],
   "source": [
    "var3=np.matrix([[1,2],[4,5]])\n",
    "print(var3)\n",
    "print()\n",
    "print(np.linalg.matrix_power(var3,2))\n",
    "print(np.linalg.matrix_power(var3,0))\n",
    "print(np.linalg.matrix_power(var3,-2))"
   ]
  },
  {
   "cell_type": "code",
   "execution_count": 214,
   "id": "8ebacc78-57f0-4278-8d3a-09065c12a80c",
   "metadata": {},
   "outputs": [
    {
     "name": "stdout",
     "output_type": "stream",
     "text": [
      "[[1 2]\n",
      " [4 5]]\n",
      "\n",
      "-2.9999999999999996\n"
     ]
    }
   ],
   "source": [
    "var4=np.matrix([[1,2],[4,5]])\n",
    "print(var4)\n",
    "print()\n",
    "print(np.linalg.det(var4))"
   ]
  },
  {
   "cell_type": "code",
   "execution_count": null,
   "id": "a68df70e-47a9-4259-8192-7fd40da27a4f",
   "metadata": {},
   "outputs": [],
   "source": []
  },
  {
   "cell_type": "code",
   "execution_count": null,
   "id": "94a886e6-796b-4107-8b32-14252547e5ba",
   "metadata": {},
   "outputs": [],
   "source": []
  }
 ],
 "metadata": {
  "kernelspec": {
   "display_name": "Python [conda env:base] *",
   "language": "python",
   "name": "conda-base-py"
  },
  "language_info": {
   "codemirror_mode": {
    "name": "ipython",
    "version": 3
   },
   "file_extension": ".py",
   "mimetype": "text/x-python",
   "name": "python",
   "nbconvert_exporter": "python",
   "pygments_lexer": "ipython3",
   "version": "3.12.7"
  }
 },
 "nbformat": 4,
 "nbformat_minor": 5
}
